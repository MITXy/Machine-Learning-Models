{
 "cells": [
  {
   "cell_type": "code",
   "execution_count": 1,
   "id": "0c59a041",
   "metadata": {},
   "outputs": [],
   "source": [
    "import pandas as pd\n",
    "import numpy as np\n",
    "import matplotlib.pyplot as plt"
   ]
  },
  {
   "cell_type": "code",
   "execution_count": 2,
   "id": "c9eee387",
   "metadata": {},
   "outputs": [
    {
     "data": {
      "text/html": [
       "<div>\n",
       "<style scoped>\n",
       "    .dataframe tbody tr th:only-of-type {\n",
       "        vertical-align: middle;\n",
       "    }\n",
       "\n",
       "    .dataframe tbody tr th {\n",
       "        vertical-align: top;\n",
       "    }\n",
       "\n",
       "    .dataframe thead th {\n",
       "        text-align: right;\n",
       "    }\n",
       "</style>\n",
       "<table border=\"1\" class=\"dataframe\">\n",
       "  <thead>\n",
       "    <tr style=\"text-align: right;\">\n",
       "      <th></th>\n",
       "      <th>User ID</th>\n",
       "      <th>Gender</th>\n",
       "      <th>Age</th>\n",
       "      <th>EstimatedSalary</th>\n",
       "      <th>Purchased</th>\n",
       "    </tr>\n",
       "  </thead>\n",
       "  <tbody>\n",
       "    <tr>\n",
       "      <th>0</th>\n",
       "      <td>15624510</td>\n",
       "      <td>Male</td>\n",
       "      <td>19</td>\n",
       "      <td>19000</td>\n",
       "      <td>0</td>\n",
       "    </tr>\n",
       "    <tr>\n",
       "      <th>1</th>\n",
       "      <td>15810944</td>\n",
       "      <td>Male</td>\n",
       "      <td>35</td>\n",
       "      <td>20000</td>\n",
       "      <td>0</td>\n",
       "    </tr>\n",
       "    <tr>\n",
       "      <th>2</th>\n",
       "      <td>15668575</td>\n",
       "      <td>Female</td>\n",
       "      <td>26</td>\n",
       "      <td>43000</td>\n",
       "      <td>0</td>\n",
       "    </tr>\n",
       "    <tr>\n",
       "      <th>3</th>\n",
       "      <td>15603246</td>\n",
       "      <td>Female</td>\n",
       "      <td>27</td>\n",
       "      <td>57000</td>\n",
       "      <td>0</td>\n",
       "    </tr>\n",
       "    <tr>\n",
       "      <th>4</th>\n",
       "      <td>15804002</td>\n",
       "      <td>Male</td>\n",
       "      <td>19</td>\n",
       "      <td>76000</td>\n",
       "      <td>0</td>\n",
       "    </tr>\n",
       "  </tbody>\n",
       "</table>\n",
       "</div>"
      ],
      "text/plain": [
       "    User ID  Gender  Age  EstimatedSalary  Purchased\n",
       "0  15624510    Male   19            19000          0\n",
       "1  15810944    Male   35            20000          0\n",
       "2  15668575  Female   26            43000          0\n",
       "3  15603246  Female   27            57000          0\n",
       "4  15804002    Male   19            76000          0"
      ]
     },
     "execution_count": 2,
     "metadata": {},
     "output_type": "execute_result"
    }
   ],
   "source": [
    "df = pd.read_csv(\"User_Data.csv\")\n",
    "df.head()"
   ]
  },
  {
   "cell_type": "code",
   "execution_count": 3,
   "id": "add6d49f",
   "metadata": {},
   "outputs": [
    {
     "name": "stdout",
     "output_type": "stream",
     "text": [
      "<class 'pandas.core.frame.DataFrame'>\n",
      "RangeIndex: 400 entries, 0 to 399\n",
      "Data columns (total 5 columns):\n",
      " #   Column           Non-Null Count  Dtype \n",
      "---  ------           --------------  ----- \n",
      " 0   User ID          400 non-null    int64 \n",
      " 1   Gender           400 non-null    object\n",
      " 2   Age              400 non-null    int64 \n",
      " 3   EstimatedSalary  400 non-null    int64 \n",
      " 4   Purchased        400 non-null    int64 \n",
      "dtypes: int64(4), object(1)\n",
      "memory usage: 15.8+ KB\n"
     ]
    }
   ],
   "source": [
    "df.info()"
   ]
  },
  {
   "cell_type": "code",
   "execution_count": 4,
   "id": "282c56ad",
   "metadata": {},
   "outputs": [
    {
     "data": {
      "text/plain": [
       "<bound method NDFrame.describe of       User ID  Gender  Age  EstimatedSalary  Purchased\n",
       "0    15624510    Male   19            19000          0\n",
       "1    15810944    Male   35            20000          0\n",
       "2    15668575  Female   26            43000          0\n",
       "3    15603246  Female   27            57000          0\n",
       "4    15804002    Male   19            76000          0\n",
       "..        ...     ...  ...              ...        ...\n",
       "395  15691863  Female   46            41000          1\n",
       "396  15706071    Male   51            23000          1\n",
       "397  15654296  Female   50            20000          1\n",
       "398  15755018    Male   36            33000          0\n",
       "399  15594041  Female   49            36000          1\n",
       "\n",
       "[400 rows x 5 columns]>"
      ]
     },
     "execution_count": 4,
     "metadata": {},
     "output_type": "execute_result"
    }
   ],
   "source": [
    "df.describe"
   ]
  },
  {
   "cell_type": "code",
   "execution_count": 5,
   "id": "fba2e38d",
   "metadata": {},
   "outputs": [
    {
     "data": {
      "text/html": [
       "<div>\n",
       "<style scoped>\n",
       "    .dataframe tbody tr th:only-of-type {\n",
       "        vertical-align: middle;\n",
       "    }\n",
       "\n",
       "    .dataframe tbody tr th {\n",
       "        vertical-align: top;\n",
       "    }\n",
       "\n",
       "    .dataframe thead th {\n",
       "        text-align: right;\n",
       "    }\n",
       "</style>\n",
       "<table border=\"1\" class=\"dataframe\">\n",
       "  <thead>\n",
       "    <tr style=\"text-align: right;\">\n",
       "      <th></th>\n",
       "      <th>User ID</th>\n",
       "      <th>Age</th>\n",
       "      <th>EstimatedSalary</th>\n",
       "      <th>Purchased</th>\n",
       "    </tr>\n",
       "  </thead>\n",
       "  <tbody>\n",
       "    <tr>\n",
       "      <th>User ID</th>\n",
       "      <td>1.000000</td>\n",
       "      <td>-0.000721</td>\n",
       "      <td>0.071097</td>\n",
       "      <td>0.007120</td>\n",
       "    </tr>\n",
       "    <tr>\n",
       "      <th>Age</th>\n",
       "      <td>-0.000721</td>\n",
       "      <td>1.000000</td>\n",
       "      <td>0.155238</td>\n",
       "      <td>0.622454</td>\n",
       "    </tr>\n",
       "    <tr>\n",
       "      <th>EstimatedSalary</th>\n",
       "      <td>0.071097</td>\n",
       "      <td>0.155238</td>\n",
       "      <td>1.000000</td>\n",
       "      <td>0.362083</td>\n",
       "    </tr>\n",
       "    <tr>\n",
       "      <th>Purchased</th>\n",
       "      <td>0.007120</td>\n",
       "      <td>0.622454</td>\n",
       "      <td>0.362083</td>\n",
       "      <td>1.000000</td>\n",
       "    </tr>\n",
       "  </tbody>\n",
       "</table>\n",
       "</div>"
      ],
      "text/plain": [
       "                  User ID       Age  EstimatedSalary  Purchased\n",
       "User ID          1.000000 -0.000721         0.071097   0.007120\n",
       "Age             -0.000721  1.000000         0.155238   0.622454\n",
       "EstimatedSalary  0.071097  0.155238         1.000000   0.362083\n",
       "Purchased        0.007120  0.622454         0.362083   1.000000"
      ]
     },
     "execution_count": 5,
     "metadata": {},
     "output_type": "execute_result"
    }
   ],
   "source": [
    "df.corr()"
   ]
  },
  {
   "cell_type": "code",
   "execution_count": 6,
   "id": "92276c35",
   "metadata": {},
   "outputs": [
    {
     "data": {
      "text/plain": [
       "(400, 5)"
      ]
     },
     "execution_count": 6,
     "metadata": {},
     "output_type": "execute_result"
    }
   ],
   "source": [
    "df.shape"
   ]
  },
  {
   "cell_type": "code",
   "execution_count": 7,
   "id": "8c2f79de",
   "metadata": {
    "scrolled": true
   },
   "outputs": [
    {
     "data": {
      "text/plain": [
       "<AxesSubplot:ylabel='Age'>"
      ]
     },
     "execution_count": 7,
     "metadata": {},
     "output_type": "execute_result"
    },
    {
     "data": {
      "image/png": "[encoded data removed]",
      "text/plain": [
       "<Figure size 576x432 with 1 Axes>"
      ]
     },
     "metadata": {
      "needs_background": "light"
     },
     "output_type": "display_data"
    }
   ],
   "source": [
    "import seaborn as sns\n",
    "fig, ax = plt.subplots(figsize = (8,6))\n",
    "sns.boxplot(y=df.Age, width = 0.2)"
   ]
  },
  {
   "cell_type": "code",
   "execution_count": 8,
   "id": "a0f06805",
   "metadata": {},
   "outputs": [
    {
     "data": {
      "text/plain": [
       "<AxesSubplot:ylabel='EstimatedSalary'>"
      ]
     },
     "execution_count": 8,
     "metadata": {},
     "output_type": "execute_result"
    },
    {
     "data": {
      "image/png": "[encoded data removed]",
      "text/plain": [
       "<Figure size 576x432 with 1 Axes>"
      ]
     },
     "metadata": {
      "needs_background": "light"
     },
     "output_type": "display_data"
    }
   ],
   "source": [
    "import seaborn as sns\n",
    "fig, ax = plt.subplots(figsize = (8,6))\n",
    "sns.boxplot(y=df.EstimatedSalary, width = 0.2)"
   ]
  },
  {
   "cell_type": "code",
   "execution_count": 9,
   "id": "7d3994b2",
   "metadata": {},
   "outputs": [
    {
     "data": {
      "text/html": [
       "<div>\n",
       "<style scoped>\n",
       "    .dataframe tbody tr th:only-of-type {\n",
       "        vertical-align: middle;\n",
       "    }\n",
       "\n",
       "    .dataframe tbody tr th {\n",
       "        vertical-align: top;\n",
       "    }\n",
       "\n",
       "    .dataframe thead th {\n",
       "        text-align: right;\n",
       "    }\n",
       "</style>\n",
       "<table border=\"1\" class=\"dataframe\">\n",
       "  <thead>\n",
       "    <tr style=\"text-align: right;\">\n",
       "      <th></th>\n",
       "      <th>User ID</th>\n",
       "      <th>Gender</th>\n",
       "      <th>Age</th>\n",
       "      <th>EstimatedSalary</th>\n",
       "      <th>Purchased</th>\n",
       "    </tr>\n",
       "  </thead>\n",
       "  <tbody>\n",
       "    <tr>\n",
       "      <th>0</th>\n",
       "      <td>15624510</td>\n",
       "      <td>Male</td>\n",
       "      <td>19</td>\n",
       "      <td>19000</td>\n",
       "      <td>0</td>\n",
       "    </tr>\n",
       "    <tr>\n",
       "      <th>1</th>\n",
       "      <td>15810944</td>\n",
       "      <td>Male</td>\n",
       "      <td>35</td>\n",
       "      <td>20000</td>\n",
       "      <td>0</td>\n",
       "    </tr>\n",
       "    <tr>\n",
       "      <th>2</th>\n",
       "      <td>15668575</td>\n",
       "      <td>Female</td>\n",
       "      <td>26</td>\n",
       "      <td>43000</td>\n",
       "      <td>0</td>\n",
       "    </tr>\n",
       "    <tr>\n",
       "      <th>3</th>\n",
       "      <td>15603246</td>\n",
       "      <td>Female</td>\n",
       "      <td>27</td>\n",
       "      <td>57000</td>\n",
       "      <td>0</td>\n",
       "    </tr>\n",
       "    <tr>\n",
       "      <th>4</th>\n",
       "      <td>15804002</td>\n",
       "      <td>Male</td>\n",
       "      <td>19</td>\n",
       "      <td>76000</td>\n",
       "      <td>0</td>\n",
       "    </tr>\n",
       "    <tr>\n",
       "      <th>...</th>\n",
       "      <td>...</td>\n",
       "      <td>...</td>\n",
       "      <td>...</td>\n",
       "      <td>...</td>\n",
       "      <td>...</td>\n",
       "    </tr>\n",
       "    <tr>\n",
       "      <th>395</th>\n",
       "      <td>15691863</td>\n",
       "      <td>Female</td>\n",
       "      <td>46</td>\n",
       "      <td>41000</td>\n",
       "      <td>1</td>\n",
       "    </tr>\n",
       "    <tr>\n",
       "      <th>396</th>\n",
       "      <td>15706071</td>\n",
       "      <td>Male</td>\n",
       "      <td>51</td>\n",
       "      <td>23000</td>\n",
       "      <td>1</td>\n",
       "    </tr>\n",
       "    <tr>\n",
       "      <th>397</th>\n",
       "      <td>15654296</td>\n",
       "      <td>Female</td>\n",
       "      <td>50</td>\n",
       "      <td>20000</td>\n",
       "      <td>1</td>\n",
       "    </tr>\n",
       "    <tr>\n",
       "      <th>398</th>\n",
       "      <td>15755018</td>\n",
       "      <td>Male</td>\n",
       "      <td>36</td>\n",
       "      <td>33000</td>\n",
       "      <td>0</td>\n",
       "    </tr>\n",
       "    <tr>\n",
       "      <th>399</th>\n",
       "      <td>15594041</td>\n",
       "      <td>Female</td>\n",
       "      <td>49</td>\n",
       "      <td>36000</td>\n",
       "      <td>1</td>\n",
       "    </tr>\n",
       "  </tbody>\n",
       "</table>\n",
       "<p>400 rows × 5 columns</p>\n",
       "</div>"
      ],
      "text/plain": [
       "      User ID  Gender  Age  EstimatedSalary  Purchased\n",
       "0    15624510    Male   19            19000          0\n",
       "1    15810944    Male   35            20000          0\n",
       "2    15668575  Female   26            43000          0\n",
       "3    15603246  Female   27            57000          0\n",
       "4    15804002    Male   19            76000          0\n",
       "..        ...     ...  ...              ...        ...\n",
       "395  15691863  Female   46            41000          1\n",
       "396  15706071    Male   51            23000          1\n",
       "397  15654296  Female   50            20000          1\n",
       "398  15755018    Male   36            33000          0\n",
       "399  15594041  Female   49            36000          1\n",
       "\n",
       "[400 rows x 5 columns]"
      ]
     },
     "execution_count": 9,
     "metadata": {},
     "output_type": "execute_result"
    }
   ],
   "source": [
    "df"
   ]
  },
  {
   "cell_type": "code",
   "execution_count": 10,
   "id": "061c7800",
   "metadata": {},
   "outputs": [
    {
     "data": {
      "text/html": [
       "<div>\n",
       "<style scoped>\n",
       "    .dataframe tbody tr th:only-of-type {\n",
       "        vertical-align: middle;\n",
       "    }\n",
       "\n",
       "    .dataframe tbody tr th {\n",
       "        vertical-align: top;\n",
       "    }\n",
       "\n",
       "    .dataframe thead th {\n",
       "        text-align: right;\n",
       "    }\n",
       "</style>\n",
       "<table border=\"1\" class=\"dataframe\">\n",
       "  <thead>\n",
       "    <tr style=\"text-align: right;\">\n",
       "      <th></th>\n",
       "      <th>User ID</th>\n",
       "      <th>Gender</th>\n",
       "      <th>Age</th>\n",
       "      <th>EstimatedSalary</th>\n",
       "      <th>Purchased</th>\n",
       "    </tr>\n",
       "  </thead>\n",
       "  <tbody>\n",
       "    <tr>\n",
       "      <th>0</th>\n",
       "      <td>15624510</td>\n",
       "      <td>1</td>\n",
       "      <td>19</td>\n",
       "      <td>19000</td>\n",
       "      <td>0</td>\n",
       "    </tr>\n",
       "    <tr>\n",
       "      <th>1</th>\n",
       "      <td>15810944</td>\n",
       "      <td>1</td>\n",
       "      <td>35</td>\n",
       "      <td>20000</td>\n",
       "      <td>0</td>\n",
       "    </tr>\n",
       "    <tr>\n",
       "      <th>2</th>\n",
       "      <td>15668575</td>\n",
       "      <td>0</td>\n",
       "      <td>26</td>\n",
       "      <td>43000</td>\n",
       "      <td>0</td>\n",
       "    </tr>\n",
       "    <tr>\n",
       "      <th>3</th>\n",
       "      <td>15603246</td>\n",
       "      <td>0</td>\n",
       "      <td>27</td>\n",
       "      <td>57000</td>\n",
       "      <td>0</td>\n",
       "    </tr>\n",
       "    <tr>\n",
       "      <th>4</th>\n",
       "      <td>15804002</td>\n",
       "      <td>1</td>\n",
       "      <td>19</td>\n",
       "      <td>76000</td>\n",
       "      <td>0</td>\n",
       "    </tr>\n",
       "    <tr>\n",
       "      <th>...</th>\n",
       "      <td>...</td>\n",
       "      <td>...</td>\n",
       "      <td>...</td>\n",
       "      <td>...</td>\n",
       "      <td>...</td>\n",
       "    </tr>\n",
       "    <tr>\n",
       "      <th>395</th>\n",
       "      <td>15691863</td>\n",
       "      <td>0</td>\n",
       "      <td>46</td>\n",
       "      <td>41000</td>\n",
       "      <td>1</td>\n",
       "    </tr>\n",
       "    <tr>\n",
       "      <th>396</th>\n",
       "      <td>15706071</td>\n",
       "      <td>1</td>\n",
       "      <td>51</td>\n",
       "      <td>23000</td>\n",
       "      <td>1</td>\n",
       "    </tr>\n",
       "    <tr>\n",
       "      <th>397</th>\n",
       "      <td>15654296</td>\n",
       "      <td>0</td>\n",
       "      <td>50</td>\n",
       "      <td>20000</td>\n",
       "      <td>1</td>\n",
       "    </tr>\n",
       "    <tr>\n",
       "      <th>398</th>\n",
       "      <td>15755018</td>\n",
       "      <td>1</td>\n",
       "      <td>36</td>\n",
       "      <td>33000</td>\n",
       "      <td>0</td>\n",
       "    </tr>\n",
       "    <tr>\n",
       "      <th>399</th>\n",
       "      <td>15594041</td>\n",
       "      <td>0</td>\n",
       "      <td>49</td>\n",
       "      <td>36000</td>\n",
       "      <td>1</td>\n",
       "    </tr>\n",
       "  </tbody>\n",
       "</table>\n",
       "<p>400 rows × 5 columns</p>\n",
       "</div>"
      ],
      "text/plain": [
       "      User ID  Gender  Age  EstimatedSalary  Purchased\n",
       "0    15624510       1   19            19000          0\n",
       "1    15810944       1   35            20000          0\n",
       "2    15668575       0   26            43000          0\n",
       "3    15603246       0   27            57000          0\n",
       "4    15804002       1   19            76000          0\n",
       "..        ...     ...  ...              ...        ...\n",
       "395  15691863       0   46            41000          1\n",
       "396  15706071       1   51            23000          1\n",
       "397  15654296       0   50            20000          1\n",
       "398  15755018       1   36            33000          0\n",
       "399  15594041       0   49            36000          1\n",
       "\n",
       "[400 rows x 5 columns]"
      ]
     },
     "execution_count": 10,
     "metadata": {},
     "output_type": "execute_result"
    }
   ],
   "source": [
    "df[\"Gender\"] = np.where(df[\"Gender\"] == \"Male\",1,0)\n",
    "df"
   ]
  },
  {
   "cell_type": "code",
   "execution_count": 11,
   "id": "93a38a64",
   "metadata": {},
   "outputs": [
    {
     "data": {
      "text/plain": [
       "array([[    1,    19, 19000],\n",
       "       [    1,    35, 20000],\n",
       "       [    0,    26, 43000],\n",
       "       ...,\n",
       "       [    0,    50, 20000],\n",
       "       [    1,    36, 33000],\n",
       "       [    0,    49, 36000]], dtype=int64)"
      ]
     },
     "execution_count": 11,
     "metadata": {},
     "output_type": "execute_result"
    }
   ],
   "source": [
    "x = df.iloc[:,1:4].values\n",
    "x"
   ]
  },
  {
   "cell_type": "code",
   "execution_count": 12,
   "id": "51713b5e",
   "metadata": {},
   "outputs": [
    {
     "data": {
      "text/plain": [
       "array([0, 0, 0, 0, 0, 0, 0, 1, 0, 0, 0, 0, 0, 0, 0, 0, 1, 1, 1, 1, 1, 1,\n",
       "       1, 1, 1, 1, 1, 1, 0, 0, 0, 1, 0, 0, 0, 0, 0, 0, 0, 0, 0, 0, 0, 0,\n",
       "       0, 0, 0, 0, 1, 0, 0, 0, 0, 0, 0, 0, 0, 0, 0, 0, 0, 0, 0, 1, 0, 0,\n",
       "       0, 0, 0, 0, 0, 0, 0, 0, 0, 1, 0, 0, 0, 0, 0, 0, 0, 0, 0, 1, 0, 0,\n",
       "       0, 0, 0, 0, 0, 0, 0, 0, 0, 1, 0, 0, 0, 0, 0, 1, 0, 0, 0, 0, 0, 0,\n",
       "       0, 0, 0, 0, 0, 0, 0, 0, 0, 0, 0, 0, 0, 0, 0, 0, 0, 0, 0, 0, 0, 0,\n",
       "       0, 0, 0, 0, 0, 1, 0, 0, 0, 0, 0, 0, 0, 0, 1, 0, 0, 0, 0, 0, 0, 0,\n",
       "       0, 0, 0, 0, 0, 1, 1, 0, 0, 0, 0, 0, 0, 0, 1, 0, 0, 0, 0, 0, 0, 0,\n",
       "       0, 0, 0, 0, 0, 0, 1, 0, 0, 0, 0, 0, 0, 0, 0, 0, 0, 0, 0, 0, 0, 0,\n",
       "       0, 0, 0, 0, 1, 0, 1, 0, 1, 0, 1, 0, 1, 1, 0, 0, 0, 1, 0, 0, 0, 1,\n",
       "       0, 1, 1, 1, 0, 0, 1, 1, 0, 1, 1, 0, 1, 1, 0, 1, 0, 0, 0, 1, 1, 0,\n",
       "       1, 1, 0, 1, 0, 1, 0, 1, 0, 0, 1, 1, 0, 1, 0, 0, 1, 1, 0, 1, 1, 0,\n",
       "       1, 1, 0, 0, 1, 0, 0, 1, 1, 1, 1, 1, 0, 1, 1, 1, 1, 0, 1, 1, 0, 1,\n",
       "       0, 1, 0, 1, 1, 1, 1, 0, 0, 0, 1, 1, 0, 1, 1, 1, 1, 1, 0, 0, 0, 1,\n",
       "       1, 0, 0, 1, 0, 1, 0, 1, 1, 0, 1, 0, 1, 1, 0, 1, 1, 0, 0, 0, 1, 1,\n",
       "       0, 1, 0, 0, 1, 0, 1, 0, 0, 1, 1, 0, 0, 1, 1, 0, 1, 1, 0, 0, 1, 0,\n",
       "       1, 0, 1, 1, 1, 0, 1, 0, 1, 1, 1, 0, 1, 1, 1, 1, 0, 1, 1, 1, 0, 1,\n",
       "       0, 1, 0, 0, 1, 1, 0, 1, 1, 1, 1, 1, 1, 0, 1, 1, 1, 1, 1, 1, 0, 1,\n",
       "       1, 1, 0, 1], dtype=int64)"
      ]
     },
     "execution_count": 12,
     "metadata": {},
     "output_type": "execute_result"
    }
   ],
   "source": [
    "y= df[\"Purchased\"].values\n",
    "y"
   ]
  },
  {
   "cell_type": "code",
   "execution_count": 13,
   "id": "0726b6c0",
   "metadata": {},
   "outputs": [],
   "source": [
    "from sklearn.model_selection import train_test_split\n",
    "X_train, X_test, y_train, y_test = train_test_split(x, y, test_size = 0.2, random_state =42)"
   ]
  },
  {
   "cell_type": "code",
   "execution_count": 14,
   "id": "8938452b",
   "metadata": {},
   "outputs": [],
   "source": [
    "from sklearn.preprocessing import StandardScaler\n",
    "scaler = StandardScaler()\n",
    "X_train = scaler.fit_transform(X_train)\n",
    "X_test = scaler.transform(X_test)\n"
   ]
  },
  {
   "cell_type": "code",
   "execution_count": 15,
   "id": "133cfa6b",
   "metadata": {},
   "outputs": [
    {
     "name": "stdout",
     "output_type": "stream",
     "text": [
      "[[-1.         -1.06675246 -0.38634438]\n",
      " [ 1.          0.79753468 -1.22993871]\n",
      " [-1.          0.11069205  1.853544  ]\n",
      " [-1.          0.60129393 -0.90995465]\n",
      " [-1.          1.87685881 -1.28811763]\n",
      " [ 1.         -0.57615058  1.44629156]\n",
      " [ 1.          0.3069328  -0.53179168]\n",
      " [ 1.          0.99377543  0.10817643]\n",
      " [ 1.         -1.16487283  0.45724994]\n",
      " [ 1.         -1.55735433  0.31180264]\n",
      " [ 1.          1.0918958   0.45724994]\n",
      " [-1.         -0.18366908 -0.47361276]\n",
      " [ 1.          0.20881242 -0.32816546]\n",
      " [-1.          0.3069328   0.28271318]\n",
      " [ 1.         -1.16487283 -1.57901222]\n",
      " [-1.          0.11069205  0.25362372]\n",
      " [ 1.          2.07309956  1.73718616]\n",
      " [ 1.          0.40505317 -0.18271817]\n",
      " [-1.          1.4843773   2.11534913]\n",
      " [ 1.         -0.37990983  1.21357589]\n",
      " [-1.          1.87685881  1.50447048]\n",
      " [-1.          0.11069205  0.02090805]\n",
      " [ 1.          0.89565505 -1.31720709]\n",
      " [ 1.         -1.36111358 -1.49174384]\n",
      " [-1.         -0.18366908 -0.5899706 ]\n",
      " [-1.         -0.57615058  2.31897535]\n",
      " [-1.          0.99377543 -1.20084925]\n",
      " [ 1.         -0.77239133  1.06812859]\n",
      " [ 1.          2.17121993 -1.05540195]\n",
      " [ 1.          0.01257167 -0.26998655]\n",
      " [ 1.         -0.4780302  -1.14267033]\n",
      " [ 1.          0.11069205  0.02090805]\n",
      " [ 1.          1.68061805 -0.90995465]\n",
      " [-1.          1.0918958  -0.90995465]\n",
      " [-1.          0.50317355  1.21357589]\n",
      " [ 1.         -1.06675246 -1.46265438]\n",
      " [-1.         -1.16487283 -1.54992276]\n",
      " [-1.         -0.0855487   0.66087616]\n",
      " [ 1.          0.40505317 -0.47361276]\n",
      " [ 1.         -0.28178945 -0.26998655]\n",
      " [ 1.         -0.87051171  0.13726589]\n",
      " [-1.          0.01257167  0.28271318]\n",
      " [ 1.          0.6994143  -1.28811763]\n",
      " [-1.          1.58249768  1.09721805]\n",
      " [ 1.          0.79753468 -1.37538601]\n",
      " [-1.         -1.45923396 -1.22993871]\n",
      " [ 1.         -0.0855487   0.13726589]\n",
      " [ 1.          0.40505317 -0.15362871]\n",
      " [-1.         -0.28178945  0.02090805]\n",
      " [-1.          1.28813655  2.20261751]\n",
      " [ 1.          0.11069205  0.74814454]\n",
      " [-1.         -1.36111358  0.54451832]\n",
      " [-1.          1.97497918  0.71905508]\n",
      " [ 1.         -1.26299321 -1.40447546]\n",
      " [ 1.          0.3069328  -0.32816546]\n",
      " [ 1.         -0.96863208  0.54451832]\n",
      " [-1.          0.40505317  0.28271318]\n",
      " [-1.          0.40505317  1.09721805]\n",
      " [-1.          0.79753468  0.74814454]\n",
      " [-1.          0.89565505  1.24266535]\n",
      " [-1.         -0.4780302  -1.22993871]\n",
      " [ 1.         -1.85171546 -1.31720709]\n",
      " [ 1.          1.0918958   0.54451832]\n",
      " [-1.         -0.67427095 -1.60810168]\n",
      " [-1.         -0.77239133  0.25362372]\n",
      " [ 1.          0.99377543  2.05717021]\n",
      " [-1.         -0.57615058  1.35902318]\n",
      " [-1.         -0.0855487   0.02090805]\n",
      " [-1.         -1.94983583  0.45724994]\n",
      " [-1.          0.40505317  0.25362372]\n",
      " [-1.         -1.06675246  0.39907102]\n",
      " [ 1.          0.20881242 -0.15362871]\n",
      " [ 1.          1.87685881  0.10817643]\n",
      " [-1.         -1.16487283 -1.60810168]\n",
      " [-1.         -1.16487283  0.28271318]\n",
      " [ 1.         -0.87051171 -0.79359682]\n",
      " [-1.         -0.4780302   2.28988589]\n",
      " [ 1.          0.11069205 -0.82268628]\n",
      " [-1.          1.58249768  0.98086021]\n",
      " [ 1.         -0.18366908 -1.08449141]\n",
      " [-1.          0.79753468 -1.11358087]\n",
      " [-1.          0.20881242  2.08625967]\n",
      " [-1.         -0.0855487  -0.24089709]\n",
      " [ 1.         -0.87051171  2.26079643]\n",
      " [-1.         -0.0855487  -0.38634438]\n",
      " [ 1.         -0.28178945 -0.5899706 ]\n",
      " [-1.          0.40505317 -0.50270222]\n",
      " [ 1.         -0.28178945 -0.93904411]\n",
      " [-1.          0.3069328  -1.17175979]\n",
      " [-1.          0.20881242  0.04999751]\n",
      " [ 1.         -1.16487283 -1.60810168]\n",
      " [-1.         -0.67427095 -0.06636033]\n",
      " [ 1.         -0.28178945 -0.50270222]\n",
      " [-1.         -0.28178945 -1.31720709]\n",
      " [ 1.         -0.77239133  0.54451832]\n",
      " [ 1.          0.3069328   0.04999751]\n",
      " [ 1.         -0.96863208  1.53355994]\n",
      " [-1.          0.79753468  0.3408921 ]\n",
      " [-1.         -1.55735433 -0.21180763]\n",
      " [-1.          0.6994143  -1.40447546]\n",
      " [ 1.         -0.77239133 -0.61906006]\n",
      " [-1.         -0.37990983 -1.31720709]\n",
      " [-1.          0.20881242  0.13726589]\n",
      " [-1.         -0.57615058  1.35902318]\n",
      " [-1.         -1.45923396  0.3408921 ]\n",
      " [ 1.         -1.16487283  0.28271318]\n",
      " [-1.          0.99377543  1.76627562]\n",
      " [ 1.          2.07309956  2.11534913]\n",
      " [ 1.         -0.28178945 -0.4445233 ]\n",
      " [ 1.         -0.37990983 -0.79359682]\n",
      " [-1.          0.11069205 -0.26998655]\n",
      " [-1.         -1.06675246  0.74814454]\n",
      " [ 1.          2.17121993  0.36998156]\n",
      " [ 1.         -1.36111358 -0.4445233 ]\n",
      " [ 1.          1.97497918  2.14443859]\n",
      " [-1.          1.4843773   0.98086021]\n",
      " [ 1.         -0.28178945  0.25362372]\n",
      " [ 1.         -0.18366908  0.83541291]\n",
      " [ 1.          1.87685881 -0.29907601]\n",
      " [-1.         -0.0855487   1.94081237]\n",
      " [ 1.         -0.4780302  -0.79359682]\n",
      " [-1.          0.3069328   0.02090805]\n",
      " [-1.          1.38625693 -1.43356492]\n",
      " [ 1.          1.38625693  2.31897535]\n",
      " [ 1.         -0.0855487  -0.00818141]\n",
      " [-1.         -1.16487283  0.39907102]\n",
      " [-1.         -1.16487283  0.04999751]\n",
      " [-1.         -1.16487283 -0.53179168]\n",
      " [-1.          0.3069328  -0.29907601]\n",
      " [ 1.         -0.67427095 -0.12453925]\n",
      " [ 1.         -0.0855487   2.14443859]\n",
      " [ 1.          0.01257167 -0.26998655]\n",
      " [-1.         -0.67427095 -1.05540195]\n",
      " [-1.          0.40505317  0.13726589]\n",
      " [ 1.          0.79753468  1.35902318]\n",
      " [ 1.         -0.18366908 -0.53179168]\n",
      " [ 1.          0.01257167  0.02090805]\n",
      " [ 1.          1.0918958   0.51542886]\n",
      " [-1.          1.87685881 -1.08449141]\n",
      " [-1.          0.99377543  1.96990183]\n",
      " [-1.          0.89565505 -0.5899706 ]\n",
      " [-1.         -0.4780302  -0.03727087]\n",
      " [-1.         -0.0855487   2.20261751]\n",
      " [-1.         -1.75359508  0.3408921 ]\n",
      " [ 1.          0.20881242 -0.67723898]\n",
      " [ 1.         -0.28178945 -1.40447546]\n",
      " [-1.         -1.75359508 -0.99722303]\n",
      " [-1.          0.6994143  -0.7354179 ]\n",
      " [-1.         -1.16487283 -0.79359682]\n",
      " [-1.          1.97497918  0.89359183]\n",
      " [ 1.          0.20881242 -0.38634438]\n",
      " [-1.          0.01257167  1.21357589]\n",
      " [-1.         -0.0855487   0.28271318]\n",
      " [ 1.          1.0918958  -1.22993871]\n",
      " [-1.         -0.18366908  0.13726589]\n",
      " [-1.          0.3069328   0.04999751]\n",
      " [-1.         -0.28178945 -0.29907601]\n",
      " [ 1.          0.50317355  1.7080967 ]\n",
      " [ 1.          0.3069328   0.4863394 ]\n",
      " [-1.          0.01257167  1.24266535]\n",
      " [-1.          1.97497918 -1.37538601]\n",
      " [ 1.         -1.16487283 -1.11358087]\n",
      " [ 1.         -0.57615058 -1.5208333 ]\n",
      " [ 1.          0.3069328  -0.53179168]\n",
      " [ 1.         -0.67427095 -1.5208333 ]\n",
      " [ 1.         -0.28178945  0.51542886]\n",
      " [-1.          0.99377543 -1.02631249]\n",
      " [ 1.         -1.06675246  0.54451832]\n",
      " [-1.         -0.28178945  0.777234  ]\n",
      " [ 1.          0.40505317  0.07908697]\n",
      " [-1.         -1.65547471 -0.06636033]\n",
      " [-1.          0.3069328   0.04999751]\n",
      " [-1.         -0.4780302  -0.29907601]\n",
      " [ 1.          0.11069205  1.853544  ]\n",
      " [-1.         -0.96863208  0.39907102]\n",
      " [ 1.          0.79753468  0.51542886]\n",
      " [ 1.         -1.36111358 -0.35725492]\n",
      " [-1.         -0.67427095  1.38811264]\n",
      " [-1.          1.19001618  0.51542886]\n",
      " [-1.         -1.75359508  0.3408921 ]\n",
      " [-1.         -0.57615058  1.88263345]\n",
      " [ 1.         -1.75359508  0.45724994]\n",
      " [ 1.         -0.28178945 -1.25902817]\n",
      " [ 1.         -0.87051171 -0.79359682]\n",
      " [ 1.         -1.65547471  0.51542886]\n",
      " [ 1.         -0.28178945 -0.32816546]\n",
      " [ 1.          0.6994143  -1.11358087]\n",
      " [ 1.          2.17121993 -0.82268628]\n",
      " [ 1.         -0.28178945  0.60269724]\n",
      " [-1.         -0.28178945 -0.76450736]\n",
      " [-1.         -1.94983583 -0.76450736]\n",
      " [ 1.          0.40505317  2.28988589]\n",
      " [ 1.          0.6994143   0.25362372]\n",
      " [-1.          0.20881242 -0.29907601]\n",
      " [ 1.         -1.36111358 -1.37538601]\n",
      " [-1.         -0.4780302  -0.56088114]\n",
      " [-1.          0.40505317 -0.00818141]\n",
      " [-1.          1.68061805  1.73718616]\n",
      " [-1.          1.19001618 -0.76450736]\n",
      " [-1.          0.99377543  1.4172021 ]\n",
      " [ 1.         -1.85171546  0.16635535]\n",
      " [-1.          0.3069328   0.04999751]\n",
      " [ 1.          0.20881242  0.02090805]\n",
      " [ 1.         -1.06675246  0.51542886]\n",
      " [-1.         -0.18366908  1.62082832]\n",
      " [ 1.         -0.28178945  0.13726589]\n",
      " [ 1.         -0.28178945 -0.35725492]\n",
      " [ 1.         -0.37990983  1.30084427]\n",
      " [ 1.         -0.28178945  0.07908697]\n",
      " [-1.          2.17121993  1.09721805]\n",
      " [ 1.         -1.26299321  0.4863394 ]\n",
      " [-1.         -1.06675246 -0.47361276]\n",
      " [-1.         -1.65547471 -1.57901222]\n",
      " [ 1.         -0.0855487   0.10817643]\n",
      " [ 1.         -0.28178945 -0.90995465]\n",
      " [ 1.          1.58249768 -0.00818141]\n",
      " [-1.          0.89565505 -1.17175979]\n",
      " [-1.          0.01257167 -0.5899706 ]\n",
      " [-1.         -0.28178945  2.23170697]\n",
      " [-1.         -0.28178945  0.19544481]\n",
      " [ 1.          0.3069328   0.25362372]\n",
      " [-1.         -0.0855487  -1.08449141]\n",
      " [-1.          2.17121993 -0.70632844]\n",
      " [-1.         -0.96863208 -0.32816546]\n",
      " [-1.         -1.45923396 -0.12453925]\n",
      " [ 1.         -1.45923396 -0.21180763]\n",
      " [ 1.         -0.77239133 -1.54992276]\n",
      " [ 1.         -1.26299321 -1.08449141]\n",
      " [-1.          2.07309956  0.36998156]\n",
      " [-1.          1.97497918 -0.93904411]\n",
      " [ 1.         -1.94983583  0.3408921 ]\n",
      " [ 1.          0.79753468 -0.32816546]\n",
      " [-1.         -1.06675246 -1.54992276]\n",
      " [-1.          1.97497918 -0.67723898]\n",
      " [-1.          0.99377543 -1.17175979]\n",
      " [ 1.          1.0918958  -0.15362871]\n",
      " [-1.          1.19001618 -0.99722303]\n",
      " [ 1.          1.4843773   0.04999751]\n",
      " [ 1.          0.20881242 -0.38634438]\n",
      " [-1.          1.38625693  1.27175481]\n",
      " [-1.          2.07309956 -0.82268628]\n",
      " [-1.         -0.18366908 -0.21180763]\n",
      " [ 1.          0.40505317  0.98086021]\n",
      " [ 1.         -0.0855487  -0.53179168]\n",
      " [ 1.          0.99377543 -1.08449141]\n",
      " [-1.          2.07309956 -1.20084925]\n",
      " [ 1.         -0.0855487   0.25362372]\n",
      " [ 1.          0.20881242 -0.26998655]\n",
      " [ 1.          1.0918958   0.10817643]\n",
      " [ 1.         -1.26299321  0.57360778]\n",
      " [ 1.         -0.77239133 -1.60810168]\n",
      " [ 1.          0.20881242  0.22453427]\n",
      " [ 1.         -1.36111358  0.39907102]\n",
      " [-1.          0.01257167 -0.5899706 ]\n",
      " [-1.          0.6994143   1.76627562]\n",
      " [ 1.         -1.65547471  0.04999751]\n",
      " [-1.         -0.28178945 -1.37538601]\n",
      " [ 1.         -0.28178945 -1.46265438]\n",
      " [-1.         -0.67427095  0.54451832]\n",
      " [ 1.         -0.77239133  0.28271318]\n",
      " [-1.          0.89565505 -0.67723898]\n",
      " [ 1.         -1.06675246  0.57360778]\n",
      " [-1.         -0.28178945  0.04999751]\n",
      " [-1.         -0.77239133  1.32993372]\n",
      " [ 1.          0.11069205  1.50447048]\n",
      " [-1.         -0.87051171  0.36998156]\n",
      " [-1.          0.3069328  -0.21180763]\n",
      " [ 1.          0.99377543  0.57360778]\n",
      " [ 1.          0.01257167 -0.32816546]\n",
      " [ 1.         -0.57615058 -1.5208333 ]\n",
      " [-1.          0.11069205  0.13726589]\n",
      " [ 1.         -1.16487283  0.31180264]\n",
      " [ 1.          0.11069205  1.03903913]\n",
      " [-1.         -1.55735433 -0.4445233 ]\n",
      " [ 1.         -0.18366908  1.38811264]\n",
      " [ 1.          2.17121993 -0.82268628]\n",
      " [-1.         -0.96863208 -0.4445233 ]\n",
      " [-1.          1.28813655  1.853544  ]\n",
      " [ 1.          1.0918958  -1.22993871]\n",
      " [ 1.         -0.18366908 -0.29907601]\n",
      " [-1.          1.77873843  0.98086021]\n",
      " [-1.         -1.06675246 -0.35725492]\n",
      " [-1.         -1.36111358 -1.11358087]\n",
      " [-1.         -0.37990983  0.04999751]\n",
      " [ 1.         -0.96863208 -1.11358087]\n",
      " [-1.          1.19001618 -1.46265438]\n",
      " [-1.         -0.4780302  -0.85177573]\n",
      " [-1.         -0.87051171 -0.67723898]\n",
      " [ 1.         -1.55735433 -1.5208333 ]\n",
      " [ 1.         -0.77239133  1.88263345]\n",
      " [ 1.          0.89565505  1.00994967]\n",
      " [ 1.          0.79753468  0.25362372]\n",
      " [-1.          0.99377543  1.853544  ]\n",
      " [-1.          0.89565505 -0.61906006]\n",
      " [-1.          1.0918958   2.05717021]\n",
      " [ 1.         -0.57615058  0.86450237]\n",
      " [ 1.          0.01257167  0.02090805]\n",
      " [-1.         -1.85171546 -1.28811763]\n",
      " [ 1.         -0.0855487   0.19544481]\n",
      " [-1.          0.89565505 -0.56088114]\n",
      " [ 1.          0.20881242 -0.38634438]\n",
      " [ 1.         -0.18366908  1.59173886]\n",
      " [ 1.         -1.75359508  0.10817643]\n",
      " [ 1.         -0.67427095 -0.35725492]\n",
      " [ 1.          0.3069328  -0.7354179 ]\n",
      " [ 1.          0.40505317 -0.47361276]\n",
      " [-1.         -0.96863208 -0.96813357]\n",
      " [-1.          0.11069205  0.07908697]\n",
      " [-1.         -0.96863208  0.42816048]\n",
      " [ 1.          0.01257167 -0.56088114]\n",
      " [ 1.          0.89565505 -0.79359682]\n",
      " [ 1.         -0.0855487   0.04999751]\n",
      " [-1.          1.0918958  -0.99722303]\n",
      " [ 1.          0.6994143  -1.40447546]\n",
      " [ 1.         -0.28178945  0.04999751]\n",
      " [-1.         -1.36111358 -1.25902817]\n",
      " [-1.         -1.16487283 -1.02631249]\n",
      " [-1.          0.50317355  1.82445454]\n",
      " [ 1.          0.11069205  0.19544481]\n",
      " [-1.         -0.57615058  0.45724994]]\n"
     ]
    }
   ],
   "source": [
    "print(X_train)"
   ]
  },
  {
   "cell_type": "code",
   "execution_count": 16,
   "id": "ac6539d2",
   "metadata": {},
   "outputs": [
    {
     "name": "stdout",
     "output_type": "stream",
     "text": [
      "[[-1.          0.79753468 -1.40447546]\n",
      " [-1.          2.07309956  0.51542886]\n",
      " [-1.         -0.96863208 -0.76450736]\n",
      " [-1.          0.99377543  0.74814454]\n",
      " [-1.         -0.87051171 -1.22993871]\n",
      " [-1.         -0.77239133 -0.24089709]\n",
      " [-1.          0.89565505  1.06812859]\n",
      " [-1.         -0.87051171  0.36998156]\n",
      " [ 1.          0.20881242  0.13726589]\n",
      " [ 1.          0.40505317 -0.15362871]\n",
      " [-1.         -0.28178945 -0.15362871]\n",
      " [-1.          1.4843773  -1.05540195]\n",
      " [-1.         -1.45923396 -0.64814952]\n",
      " [-1.         -1.75359508 -1.37538601]\n",
      " [ 1.         -0.77239133  0.4863394 ]\n",
      " [ 1.         -0.28178945  1.09721805]\n",
      " [-1.          1.38625693 -0.93904411]\n",
      " [-1.          0.79753468  0.10817643]\n",
      " [ 1.          0.11069205 -0.82268628]\n",
      " [ 1.          1.77873843 -0.29907601]\n",
      " [-1.         -1.55735433 -1.25902817]\n",
      " [ 1.         -0.87051171  0.28271318]\n",
      " [ 1.          0.89565505 -1.37538601]\n",
      " [-1.          2.07309956  0.16635535]\n",
      " [ 1.         -1.85171546 -1.49174384]\n",
      " [ 1.          1.28813655 -1.37538601]\n",
      " [ 1.          0.40505317  0.28271318]\n",
      " [ 1.         -0.0855487  -0.50270222]\n",
      " [-1.          1.68061805  1.59173886]\n",
      " [-1.         -1.85171546 -1.43356492]\n",
      " [-1.          0.79753468 -0.85177573]\n",
      " [ 1.         -1.85171546 -0.00818141]\n",
      " [ 1.         -0.18366908  2.14443859]\n",
      " [ 1.         -0.96863208  0.25362372]\n",
      " [ 1.          0.20881242  1.06812859]\n",
      " [ 1.         -0.28178945  0.13726589]\n",
      " [ 1.         -0.0855487  -0.4445233 ]\n",
      " [-1.          0.01257167 -0.15362871]\n",
      " [ 1.         -1.16487283 -1.17175979]\n",
      " [-1.         -1.94983583 -0.06636033]\n",
      " [ 1.          0.99377543 -1.08449141]\n",
      " [-1.         -1.36111358 -0.4445233 ]\n",
      " [ 1.         -1.94983583 -0.53179168]\n",
      " [ 1.          0.89565505 -1.46265438]\n",
      " [ 1.         -1.75359508 -0.61906006]\n",
      " [-1.          0.60129393  1.99899129]\n",
      " [ 1.         -0.87051171 -0.26998655]\n",
      " [-1.         -0.67427095  0.02090805]\n",
      " [ 1.          0.99377543 -0.85177573]\n",
      " [-1.         -0.37990983 -0.79359682]\n",
      " [ 1.         -1.26299321  0.25362372]\n",
      " [-1.          1.4843773   0.3408921 ]\n",
      " [-1.          0.01257167 -0.4445233 ]\n",
      " [ 1.         -1.26299321  0.28271318]\n",
      " [-1.         -0.0855487   0.28271318]\n",
      " [-1.         -1.06675246 -1.14267033]\n",
      " [ 1.          2.17121993  0.92268129]\n",
      " [-1.         -1.16487283  1.38811264]\n",
      " [ 1.         -0.67427095  0.10817643]\n",
      " [ 1.         -0.67427095  0.16635535]\n",
      " [-1.          0.3069328  -0.56088114]\n",
      " [-1.         -0.28178945 -0.38634438]\n",
      " [-1.          1.38625693  0.57360778]\n",
      " [-1.         -0.96863208  0.4863394 ]\n",
      " [ 1.         -0.96863208 -0.32816546]\n",
      " [-1.         -1.06675246  1.94081237]\n",
      " [-1.          0.40505317  0.57360778]\n",
      " [-1.          0.89565505  2.14443859]\n",
      " [-1.          0.11069205 -0.32816546]\n",
      " [-1.         -0.4780302   1.24266535]\n",
      " [-1.          1.38625693  1.96990183]\n",
      " [ 1.         -1.85171546  0.42816048]\n",
      " [ 1.         -1.06675246 -0.35725492]\n",
      " [ 1.         -1.45923396 -1.46265438]\n",
      " [ 1.          0.89565505 -1.05540195]\n",
      " [-1.         -0.28178945 -0.5899706 ]\n",
      " [ 1.          1.77873843  1.82445454]\n",
      " [-1.          1.58249768 -1.28811763]\n",
      " [-1.         -0.28178945 -0.67723898]\n",
      " [-1.         -0.0855487   0.22453427]]\n"
     ]
    }
   ],
   "source": [
    "print(X_test)"
   ]
  },
  {
   "cell_type": "code",
   "execution_count": 17,
   "id": "ca6b7af9",
   "metadata": {},
   "outputs": [
    {
     "data": {
      "text/plain": [
       "SVC(kernel='linear', random_state=0)"
      ]
     },
     "execution_count": 17,
     "metadata": {},
     "output_type": "execute_result"
    }
   ],
   "source": [
    "from sklearn.svm import SVC\n",
    "svm = SVC(kernel =\"linear\", random_state = 0)\n",
    "svm.fit(X_train,y_train)"
   ]
  },
  {
   "cell_type": "code",
   "execution_count": 18,
   "id": "0dfc410f",
   "metadata": {},
   "outputs": [],
   "source": [
    "y_predict = svm.predict(X_test)"
   ]
  },
  {
   "cell_type": "code",
   "execution_count": 19,
   "id": "41465460",
   "metadata": {},
   "outputs": [
    {
     "name": "stdout",
     "output_type": "stream",
     "text": [
      "[0 1 0 1 0 0 1 0 0 0 0 1 0 0 0 0 1 1 0 1 0 0 0 1 0 0 1 0 1 0 0 0 1 0 1 0 0\n",
      " 0 0 0 0 0 0 0 0 1 0 0 0 0 0 1 0 0 0 0 1 0 0 0 0 0 1 0 0 0 1 1 0 0 1 0 0 0\n",
      " 0 0 1 1 0 0]\n"
     ]
    }
   ],
   "source": [
    "print(y_predict)"
   ]
  },
  {
   "cell_type": "code",
   "execution_count": 23,
   "id": "ea569689",
   "metadata": {},
   "outputs": [
    {
     "name": "stdout",
     "output_type": "stream",
     "text": [
      "[[50  2]\n",
      " [ 9 19]]\n"
     ]
    }
   ],
   "source": [
    "from sklearn.metrics import confusion_matrix, classification_report\n",
    "print(confusion_matrix(y_test, y_predict))\n",
    "\n"
   ]
  },
  {
   "cell_type": "code",
   "execution_count": 24,
   "id": "1088b943",
   "metadata": {},
   "outputs": [
    {
     "name": "stdout",
     "output_type": "stream",
     "text": [
      "              precision    recall  f1-score   support\n",
      "\n",
      "           0       0.85      0.96      0.90        52\n",
      "           1       0.90      0.68      0.78        28\n",
      "\n",
      "    accuracy                           0.86        80\n",
      "   macro avg       0.88      0.82      0.84        80\n",
      "weighted avg       0.87      0.86      0.86        80\n",
      "\n"
     ]
    }
   ],
   "source": [
    "print(classification_report(y_test, y_predict))"
   ]
  },
  {
   "cell_type": "code",
   "execution_count": 25,
   "id": "5d313a26",
   "metadata": {},
   "outputs": [
    {
     "name": "stdout",
     "output_type": "stream",
     "text": [
      "The accuracy of svm is  0.8625\n"
     ]
    }
   ],
   "source": [
    "from sklearn.metrics import accuracy_score\n",
    "print(\"The accuracy of svm is \", accuracy_score(y_test, y_predict))"
   ]
  },
  {
   "cell_type": "code",
   "execution_count": 26,
   "id": "2a494754",
   "metadata": {},
   "outputs": [
    {
     "name": "stdout",
     "output_type": "stream",
     "text": [
      "[  3   6  12  13  15  17  21  31  38  41  46  47  54  58  65  66  67  69\n",
      "  71  86  89  95  97 102 110 116 121 128 133 136 150 151 152 155 163 165\n",
      " 171 192 193 196 198 201 207 213 220 228 231 235 238 239 240 247 248 251\n",
      " 260 263 266 277 296 298 300 305 307 310 311 317 318   1   4   5   7  19\n",
      "  22  25  26  27  32  33  37  42  44  50  56  57  76  80  83  96  99 103\n",
      " 111 117 119 122 124 138 140 147 153 158 159 160 166 168 169 175 177 180\n",
      " 186 188 202 204 216 218 234 236 242 244 245 246 264 270 272 274 278 285\n",
      " 289 291 293 295 299 301 312 313]\n"
     ]
    }
   ],
   "source": [
    "#Getting support vector indices\n",
    "support_vector_indices = svm.support_\n",
    "print(support_vector_indices)"
   ]
  },
  {
   "cell_type": "code",
   "execution_count": 28,
   "id": "e7b966b8",
   "metadata": {},
   "outputs": [
    {
     "name": "stdout",
     "output_type": "stream",
     "text": [
      "[67 67]\n"
     ]
    }
   ],
   "source": [
    "#Getting the number of support vector per class\n",
    "support_vector_per_class = svm.n_support_\n",
    "print(support_vector_per_class)"
   ]
  },
  {
   "cell_type": "code",
   "execution_count": 29,
   "id": "11793616",
   "metadata": {},
   "outputs": [
    {
     "name": "stdout",
     "output_type": "stream",
     "text": [
      "134\n"
     ]
    }
   ],
   "source": [
    "print(len(support_vector_indices))"
   ]
  },
  {
   "cell_type": "code",
   "execution_count": 30,
   "id": "32fc8a90",
   "metadata": {},
   "outputs": [
    {
     "data": {
      "text/plain": [
       "RandomForestClassifier(criterion='entropy', n_estimators=10)"
      ]
     },
     "execution_count": 30,
     "metadata": {},
     "output_type": "execute_result"
    }
   ],
   "source": [
    "from sklearn.ensemble import RandomForestClassifier\n",
    "rf = RandomForestClassifier(n_estimators = 10, criterion =\"entropy\")\n",
    "rf.fit(X_train, y_train)"
   ]
  },
  {
   "cell_type": "code",
   "execution_count": 31,
   "id": "adb5f5cf",
   "metadata": {},
   "outputs": [
    {
     "name": "stdout",
     "output_type": "stream",
     "text": [
      "[1 0 0 0 0 0 1 0 0 0 0 1 0 0 0 1 1 0 0 1 0 0 1 0 0 1 0 0 1 0 0 0 1 0 1 0 0\n",
      " 0 0 0 1 0 0 1 0 1 0 0 1 0 0 1 0 0 0 0 1 0 0 0 0 0 1 0 0 1 0 1 0 1 1 0 0 0\n",
      " 1 0 1 1 0 0]\n"
     ]
    }
   ],
   "source": [
    "y_pred = rf.predict(X_test)\n",
    "print(y_pred)"
   ]
  },
  {
   "cell_type": "code",
   "execution_count": 32,
   "id": "172f9d2e",
   "metadata": {},
   "outputs": [
    {
     "data": {
      "text/plain": [
       "array([[49,  3],\n",
       "       [ 6, 22]], dtype=int64)"
      ]
     },
     "execution_count": 32,
     "metadata": {},
     "output_type": "execute_result"
    }
   ],
   "source": [
    "confusion_matrix(y_test, y_pred)"
   ]
  },
  {
   "cell_type": "code",
   "execution_count": 33,
   "id": "79555604",
   "metadata": {},
   "outputs": [
    {
     "name": "stdout",
     "output_type": "stream",
     "text": [
      "              precision    recall  f1-score   support\n",
      "\n",
      "           0       0.89      0.94      0.92        52\n",
      "           1       0.88      0.79      0.83        28\n",
      "\n",
      "    accuracy                           0.89        80\n",
      "   macro avg       0.89      0.86      0.87        80\n",
      "weighted avg       0.89      0.89      0.89        80\n",
      "\n"
     ]
    }
   ],
   "source": [
    "print(classification_report(y_test, y_pred))"
   ]
  },
  {
   "cell_type": "code",
   "execution_count": 35,
   "id": "acc97694",
   "metadata": {},
   "outputs": [
    {
     "name": "stdout",
     "output_type": "stream",
     "text": [
      "The accuracy of Random forest is  0.8875\n"
     ]
    }
   ],
   "source": [
    "print(\"The accuracy of Random forest is \", accuracy_score(y_test, y_pred))"
   ]
  },
  {
   "cell_type": "code",
   "execution_count": 36,
   "id": "ba7f5cf6",
   "metadata": {},
   "outputs": [
    {
     "data": {
      "text/plain": [
       "KNeighborsClassifier()"
      ]
     },
     "execution_count": 36,
     "metadata": {},
     "output_type": "execute_result"
    }
   ],
   "source": [
    "#using knn\n",
    "from sklearn.neighbors import KNeighborsClassifier\n",
    "knn = KNeighborsClassifier(n_neighbors = 5, metric =\"minkowski\", p=2)\n",
    "knn.fit(X_train,y_train)"
   ]
  },
  {
   "cell_type": "code",
   "execution_count": 38,
   "id": "f1b5415f",
   "metadata": {},
   "outputs": [
    {
     "name": "stdout",
     "output_type": "stream",
     "text": [
      "[1 1 0 1 0 0 1 0 0 0 0 1 0 0 0 1 1 0 0 1 0 0 1 1 0 1 0 0 1 0 1 0 1 0 1 0 0\n",
      " 0 0 0 1 0 0 1 0 1 0 0 1 0 0 1 0 0 0 0 1 1 0 0 0 0 1 0 0 1 0 1 0 1 1 0 0 0\n",
      " 1 0 1 1 0 0]\n"
     ]
    }
   ],
   "source": [
    "y_pre = knn.predict(X_test)\n",
    "print(y_pre)"
   ]
  },
  {
   "cell_type": "code",
   "execution_count": 39,
   "id": "7dde3e3d",
   "metadata": {},
   "outputs": [
    {
     "data": {
      "text/plain": [
       "array([[48,  4],\n",
       "       [ 2, 26]], dtype=int64)"
      ]
     },
     "execution_count": 39,
     "metadata": {},
     "output_type": "execute_result"
    }
   ],
   "source": [
    "confusion_matrix(y_test, y_pre)"
   ]
  },
  {
   "cell_type": "code",
   "execution_count": 40,
   "id": "27a79577",
   "metadata": {},
   "outputs": [
    {
     "name": "stdout",
     "output_type": "stream",
     "text": [
      "              precision    recall  f1-score   support\n",
      "\n",
      "           0       0.89      0.94      0.92        52\n",
      "           1       0.88      0.79      0.83        28\n",
      "\n",
      "    accuracy                           0.89        80\n",
      "   macro avg       0.89      0.86      0.87        80\n",
      "weighted avg       0.89      0.89      0.89        80\n",
      "\n"
     ]
    }
   ],
   "source": [
    "print(classification_report(y_test, y_pred))"
   ]
  },
  {
   "cell_type": "code",
   "execution_count": 42,
   "id": "d43ed349",
   "metadata": {},
   "outputs": [
    {
     "name": "stdout",
     "output_type": "stream",
     "text": [
      "The accuracy of knn is  0.925\n"
     ]
    }
   ],
   "source": [
    "print(\"The accuracy of knn is \", accuracy_score(y_test, y_pre))"
   ]
  },
  {
   "cell_type": "code",
   "execution_count": 43,
   "id": "e4e30d52",
   "metadata": {},
   "outputs": [
    {
     "data": {
      "text/plain": [
       "GaussianNB()"
      ]
     },
     "execution_count": 43,
     "metadata": {},
     "output_type": "execute_result"
    }
   ],
   "source": [
    "#using Gausian naive bayes\n",
    "from sklearn.naive_bayes import GaussianNB\n",
    "nb = GaussianNB()\n",
    "nb.fit(X_train, y_train)"
   ]
  },
  {
   "cell_type": "code",
   "execution_count": 44,
   "id": "e8b7dafc",
   "metadata": {},
   "outputs": [
    {
     "name": "stdout",
     "output_type": "stream",
     "text": [
      "[1 1 0 1 0 0 1 0 0 0 0 1 0 0 0 0 1 1 0 1 0 0 1 1 0 1 0 0 1 0 0 0 1 0 1 0 0\n",
      " 0 0 0 1 0 0 1 0 1 0 0 1 0 0 1 0 0 0 0 1 0 0 0 0 0 1 0 0 1 1 1 0 0 1 0 0 0\n",
      " 0 0 1 1 0 0]\n"
     ]
    }
   ],
   "source": [
    "y_pr = nb.predict(X_test)\n",
    "print(y_pr)"
   ]
  },
  {
   "cell_type": "code",
   "execution_count": 47,
   "id": "5aff7e38",
   "metadata": {},
   "outputs": [
    {
     "name": "stdout",
     "output_type": "stream",
     "text": [
      "              precision    recall  f1-score   support\n",
      "\n",
      "           0       0.94      0.96      0.95        52\n",
      "           1       0.93      0.89      0.91        28\n",
      "\n",
      "    accuracy                           0.94        80\n",
      "   macro avg       0.93      0.93      0.93        80\n",
      "weighted avg       0.94      0.94      0.94        80\n",
      "\n"
     ]
    }
   ],
   "source": [
    "print(classification_report(y_test, y_pr))"
   ]
  },
  {
   "cell_type": "code",
   "execution_count": 45,
   "id": "3ca3f629",
   "metadata": {},
   "outputs": [
    {
     "data": {
      "text/plain": [
       "array([[50,  2],\n",
       "       [ 3, 25]], dtype=int64)"
      ]
     },
     "execution_count": 45,
     "metadata": {},
     "output_type": "execute_result"
    }
   ],
   "source": [
    "confusion_matrix(y_test, y_pr)"
   ]
  },
  {
   "cell_type": "code",
   "execution_count": 46,
   "id": "22cce452",
   "metadata": {},
   "outputs": [
    {
     "name": "stdout",
     "output_type": "stream",
     "text": [
      "The accuracy of NaiveBayees is  0.9375\n"
     ]
    }
   ],
   "source": [
    "print(\"The accuracy of NaiveBayees is \", accuracy_score(y_test, y_pr))"
   ]
  }
 ],
 "metadata": {
  "kernelspec": {
   "display_name": "Python 3 (ipykernel)",
   "language": "python",
   "name": "python3"
  },
  "language_info": {
   "codemirror_mode": {
    "name": "ipython",
    "version": 3
   },
   "file_extension": ".py",
   "mimetype": "text/x-python",
   "name": "python",
   "nbconvert_exporter": "python",
   "pygments_lexer": "ipython3",
   "version": "3.9.7"
  }
 },
 "nbformat": 4,
 "nbformat_minor": 5
}
