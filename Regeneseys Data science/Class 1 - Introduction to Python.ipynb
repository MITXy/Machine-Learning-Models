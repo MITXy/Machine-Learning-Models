{
 "cells": [
  {
   "cell_type": "code",
   "execution_count": 1,
   "id": "45b5af43",
   "metadata": {},
   "outputs": [
    {
     "name": "stdout",
     "output_type": "stream",
     "text": [
      "Input height h (Metres) :25\n",
      "Input breadth b(Metres)40\n",
      "Area of Triangle is :500.0\n"
     ]
    }
   ],
   "source": [
    "# calculating areas of triangles\n",
    "h= input(\"Input height h (Metres) :\")\n",
    "b = input (\"Input breadth b(Metres)\")\n",
    "Area = 0.5* int(h) * int(b)\n",
    "print(f\"Area of Triangle is :{Area}\")"
   ]
  },
  {
   "cell_type": "code",
   "execution_count": 2,
   "id": "acacfd45",
   "metadata": {},
   "outputs": [],
   "source": [
    "# statistical programming\n",
    "import pandas as pd\n",
    "from scipy import stats"
   ]
  },
  {
   "cell_type": "code",
   "execution_count": 4,
   "id": "58843a11",
   "metadata": {},
   "outputs": [],
   "source": [
    "import numpy as np\n",
    "numbers = [10,12,15,17,18,25,12,23,12,21]\n",
    "numbers_array = np.array(numbers)"
   ]
  },
  {
   "cell_type": "code",
   "execution_count": 5,
   "id": "160fbb16",
   "metadata": {},
   "outputs": [
    {
     "name": "stdout",
     "output_type": "stream",
     "text": [
      "[10 12 15 17 18 25 12 23 12 21]\n"
     ]
    }
   ],
   "source": [
    "print(numbers_array)"
   ]
  },
  {
   "cell_type": "code",
   "execution_count": 4,
   "id": "8d99eff9",
   "metadata": {},
   "outputs": [
    {
     "ename": "NameError",
     "evalue": "name 'numbers_array' is not defined",
     "output_type": "error",
     "traceback": [
      "\u001b[1;31m---------------------------------------------------------------------------\u001b[0m",
      "\u001b[1;31mNameError\u001b[0m                                 Traceback (most recent call last)",
      "\u001b[1;32m~\\AppData\\Local\\Temp/ipykernel_11396/3958782665.py\u001b[0m in \u001b[0;36m<module>\u001b[1;34m\u001b[0m\n\u001b[1;32m----> 1\u001b[1;33m \u001b[0mnumbers_array\u001b[0m\u001b[1;33m.\u001b[0m\u001b[0mmedian\u001b[0m\u001b[1;33m(\u001b[0m\u001b[1;33m)\u001b[0m\u001b[1;33m\u001b[0m\u001b[1;33m\u001b[0m\u001b[0m\n\u001b[0m",
      "\u001b[1;31mNameError\u001b[0m: name 'numbers_array' is not defined"
     ]
    }
   ],
   "source": [
    "numbers_array.median()"
   ]
  },
  {
   "cell_type": "code",
   "execution_count": null,
   "id": "ff79f749",
   "metadata": {},
   "outputs": [],
   "source": []
  },
  {
   "cell_type": "code",
   "execution_count": null,
   "id": "6c6c61f7",
   "metadata": {},
   "outputs": [],
   "source": []
  }
 ],
 "metadata": {
  "kernelspec": {
   "display_name": "Python 3 (ipykernel)",
   "language": "python",
   "name": "python3"
  },
  "language_info": {
   "codemirror_mode": {
    "name": "ipython",
    "version": 3
   },
   "file_extension": ".py",
   "mimetype": "text/x-python",
   "name": "python",
   "nbconvert_exporter": "python",
   "pygments_lexer": "ipython3",
   "version": "3.9.7"
  }
 },
 "nbformat": 4,
 "nbformat_minor": 5
}
